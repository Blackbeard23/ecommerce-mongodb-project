{
 "cells": [
  {
   "cell_type": "code",
   "execution_count": 5,
   "metadata": {},
   "outputs": [],
   "source": [
    "from pymongo import MongoClient\n"
   ]
  },
  {
   "cell_type": "code",
   "execution_count": 6,
   "metadata": {},
   "outputs": [],
   "source": [
    "client = MongoClient('mongodb://localhost:27017/')\n",
    "db = client['E-Commerce']\n",
    "customers = db['customers']\n",
    "products = db['products']\n",
    "orders = db['orders']\n",
    "orders_items = db['orders_items']"
   ]
  },
  {
   "cell_type": "code",
   "execution_count": 7,
   "metadata": {},
   "outputs": [
    {
     "name": "stdout",
     "output_type": "stream",
     "text": [
      "{'_id': 'Accessories', 'total_revenue': 68956.55}\n",
      "{'_id': 'Furniture', 'total_revenue': 35245.729999999996}\n",
      "{'_id': 'Appliances', 'total_revenue': 12580.55}\n",
      "{'_id': 'Electronics', 'total_revenue': 210480.24}\n",
      "{'_id': 'Outdoors', 'total_revenue': 27474.0}\n"
     ]
    }
   ],
   "source": [
    "\"\"\"\n",
    "Which product categories generate the highest revenue?\n",
    "    Use $group to calculate revenue by category.\n",
    "    Sort the results in descending order.\n",
    "\"\"\"\n",
    "pipeline1 = [\n",
    "    {\n",
    "        \"$lookup\": {\n",
    "            'from': \"order_items\",\n",
    "            'localField': 'order_id',\n",
    "            'foreignField': 'order_id',\n",
    "            'as': 'order_details'\n",
    "            }\n",
    "        },\n",
    "        {\n",
    "            '$unwind': '$order_details'\n",
    "        },\n",
    "        {\n",
    "            '$lookup': {\n",
    "                'from': 'products',\n",
    "                'localField': 'order_details.product_id',\n",
    "                'foreignField': 'product_id',\n",
    "                'as': 'product_details'\n",
    "            },\n",
    "        },\n",
    "        {\n",
    "            '$unwind': '$product_details'\n",
    "        },\n",
    "        {\n",
    "            '$group': {\n",
    "                '_id': '$product_details.category',\n",
    "                'total_revenue': {\n",
    "                    '$sum': {\n",
    "                        '$multiply': ['$order_details.quantity', '$order_details.price']\n",
    "                    }\n",
    "                }\n",
    "            }\n",
    "        }   \n",
    "]\n",
    "result = orders.aggregate(pipeline1)\n",
    "for doc in result:\n",
    "    print(doc)"
   ]
  },
  {
   "cell_type": "code",
   "execution_count": 11,
   "metadata": {},
   "outputs": [
    {
     "name": "stdout",
     "output_type": "stream",
     "text": [
      "{'_id': 'Electronics', 'total_revenue': 210480.24}\n",
      "{'_id': 'Accessories', 'total_revenue': 68956.55}\n",
      "{'_id': 'Furniture', 'total_revenue': 35245.729999999996}\n",
      "{'_id': 'Outdoors', 'total_revenue': 27474.0}\n",
      "{'_id': 'Appliances', 'total_revenue': 12580.55}\n"
     ]
    }
   ],
   "source": [
    "pipeline2 = [\n",
    "    {\n",
    "        \"$lookup\": {\n",
    "            'from': \"order_items\",\n",
    "            'localField': 'order_id',\n",
    "            'foreignField': 'order_id',\n",
    "            'as': 'order_details'\n",
    "            }\n",
    "        },\n",
    "        {\n",
    "            '$unwind': '$order_details'\n",
    "        },\n",
    "        {\n",
    "            '$lookup': {\n",
    "                'from': 'products',\n",
    "                'localField': 'order_details.product_id',\n",
    "                'foreignField': 'product_id',\n",
    "                'as': 'product_details'\n",
    "            },\n",
    "        },\n",
    "        {\n",
    "            '$unwind': '$product_details'\n",
    "        },\n",
    "        {\n",
    "            '$group': {\n",
    "                '_id': '$product_details.category',\n",
    "                'total_revenue': {\n",
    "                    '$sum': {\n",
    "                        '$multiply': ['$order_details.quantity', '$order_details.price']\n",
    "                    }\n",
    "                }\n",
    "            }\n",
    "        },\n",
    "        {\"$sort\": {'total_revenue': -1}\n",
    "        }\n",
    "]\n",
    "result = orders.aggregate(pipeline2)\n",
    "for doc in result:\n",
    "    print(doc)"
   ]
  },
  {
   "cell_type": "code",
   "execution_count": 9,
   "metadata": {},
   "outputs": [
    {
     "name": "stdout",
     "output_type": "stream",
     "text": [
      "{'_id': 'Idaho', 'total_customer': 2}\n",
      "{'_id': 'Ohio', 'total_customer': 2}\n",
      "{'_id': 'Missouri', 'total_customer': 2}\n",
      "{'_id': 'Maine', 'total_customer': 1}\n",
      "{'_id': 'California', 'total_customer': 1}\n",
      "{'_id': 'Mississippi', 'total_customer': 1}\n",
      "{'_id': 'Wisconsin', 'total_customer': 1}\n",
      "{'_id': 'New Mexico', 'total_customer': 1}\n",
      "{'_id': 'Montana', 'total_customer': 1}\n",
      "{'_id': 'Arizona', 'total_customer': 1}\n",
      "{'_id': 'North Dakota', 'total_customer': 1}\n",
      "{'_id': 'Florida', 'total_customer': 1}\n",
      "{'_id': 'Massachusetts', 'total_customer': 1}\n",
      "{'_id': 'Minnesota', 'total_customer': 1}\n",
      "{'_id': 'West Virginia', 'total_customer': 1}\n",
      "{'_id': 'Hawaii', 'total_customer': 1}\n",
      "{'_id': 'Rhode Island', 'total_customer': 1}\n",
      "{'_id': 'Tennessee', 'total_customer': 1}\n",
      "{'_id': 'New Jersey', 'total_customer': 1}\n",
      "{'_id': 'Wyoming', 'total_customer': 1}\n",
      "{'_id': 'Illinois', 'total_customer': 1}\n"
     ]
    }
   ],
   "source": [
    "\"\"\"\n",
    "Which states have the highest number of customers?\n",
    "    Use $group to count customers by state.\n",
    "    Sort the results in descending order.\n",
    "\"\"\"\n",
    "pipeline2 = [\n",
    "    {\n",
    "        '$group': {\n",
    "            '_id': '$address.state',\n",
    "            'total_customer': {'$sum': 1}\n",
    "        }\n",
    "    },\n",
    "    {\n",
    "        '$sort': {'total_customer': -1}\n",
    "    }\n",
    "]\n",
    "\n",
    "result = customers.aggregate(pipeline2)\n",
    "for doc in result:\n",
    "    print(doc)"
   ]
  },
  {
   "cell_type": "code",
   "execution_count": 10,
   "metadata": {},
   "outputs": [
    {
     "ename": "SyntaxError",
     "evalue": "':' expected after dictionary key (2370123394.py, line 9)",
     "output_type": "error",
     "traceback": [
      "\u001b[1;36m  Cell \u001b[1;32mIn[10], line 9\u001b[1;36m\u001b[0m\n\u001b[1;33m    ''\u001b[0m\n\u001b[1;37m     ^\u001b[0m\n\u001b[1;31mSyntaxError\u001b[0m\u001b[1;31m:\u001b[0m ':' expected after dictionary key\n"
     ]
    }
   ],
   "source": [
    "\"\"\"\n",
    "What are the top 3 most expensive products sold in each order?\n",
    "    Use $lookup and $sort to find the top products in each order.\n",
    "\"\"\"\n",
    "pipeline3 = [\n",
    "    {\n",
    "        '$group': {\n",
    "            '_id': 'order_id',\n",
    "            ''\n",
    "        }\n",
    "    }\n",
    "    \n",
    "]"
   ]
  },
  {
   "cell_type": "code",
   "execution_count": null,
   "metadata": {},
   "outputs": [
    {
     "name": "stdout",
     "output_type": "stream",
     "text": [
      "{'_id': 401, 'top_products': [{'product_name': 'Smartwatch', 'price': 250}, {'product_name': 'Keyboard', 'price': 50}]}\n",
      "{'_id': 402, 'top_products': [{'product_name': 'Headphones', 'price': 200}, {'product_name': 'Earbuds', 'price': 100}]}\n",
      "{'_id': 403, 'top_products': [{'product_name': 'TV', 'price': 1500}]}\n",
      "{'_id': 404, 'top_products': [{'product_name': 'Refrigerator', 'price': 1000}, {'product_name': 'Microwave', 'price': 150}]}\n",
      "{'_id': 405, 'top_products': [{'product_name': 'TV', 'price': 1500}]}\n",
      "{'_id': 406, 'top_products': [{'product_name': 'Headphones', 'price': 200}]}\n",
      "{'_id': 407, 'top_products': [{'product_name': 'Blender', 'price': 70}]}\n",
      "{'_id': 408, 'top_products': [{'product_name': 'Tablet', 'price': 600}, {'product_name': 'Printer', 'price': 400}]}\n",
      "{'_id': 409, 'top_products': [{'product_name': 'Gaming Console', 'price': 400}]}\n",
      "{'_id': 410, 'top_products': [{'product_name': 'Smartphone', 'price': 800}]}\n",
      "{'_id': 412, 'top_products': [{'product_name': 'Smartphone', 'price': 800}]}\n",
      "{'_id': 413, 'top_products': [{'product_name': 'Desk Chair', 'price': 150}]}\n",
      "{'_id': 414, 'top_products': [{'product_name': 'Refrigerator', 'price': 1000}, {'product_name': 'Earbuds', 'price': 100}, {'product_name': 'Lamp', 'price': 80}]}\n",
      "{'_id': 415, 'top_products': [{'product_name': 'Smartphone', 'price': 800}, {'product_name': 'Monitor', 'price': 300}, {'product_name': 'Lamp', 'price': 80}]}\n",
      "{'_id': 417, 'top_products': [{'product_name': 'Earbuds', 'price': 100}, {'product_name': 'Mouse', 'price': 30}]}\n",
      "{'_id': 418, 'top_products': [{'product_name': 'Keyboard', 'price': 50}]}\n",
      "{'_id': 419, 'top_products': [{'product_name': 'Smartwatch', 'price': 250}, {'product_name': 'Keyboard', 'price': 50}]}\n",
      "{'_id': 420, 'top_products': [{'product_name': 'Smartphone', 'price': 800}]}\n",
      "{'_id': 422, 'top_products': [{'product_name': 'Refrigerator', 'price': 1000}]}\n",
      "{'_id': 423, 'top_products': [{'product_name': 'Smartphone', 'price': 800}]}\n",
      "{'_id': 425, 'top_products': [{'product_name': 'Bicycle', 'price': 500}]}\n",
      "{'_id': 426, 'top_products': [{'product_name': 'Smartphone', 'price': 800}, {'product_name': 'Desk', 'price': 250}]}\n",
      "{'_id': 427, 'top_products': [{'product_name': 'Smartphone', 'price': 800}, {'product_name': 'Gaming Console', 'price': 400}]}\n",
      "{'_id': 428, 'top_products': [{'product_name': 'Monitor', 'price': 300}]}\n",
      "{'_id': 429, 'top_products': [{'product_name': 'Coffee Maker', 'price': 100}]}\n"
     ]
    }
   ],
   "source": [
    "pipeline = [\n",
    "    {\n",
    "        \"$lookup\": {\n",
    "            \"from\": \"order_items\",  # Join with order_items collection\n",
    "            \"localField\": \"order_id\",  # Use order_id from orders\n",
    "            \"foreignField\": \"order_id\",  # Match with order_id from order_items\n",
    "            \"as\": \"order_details\"  # Name the resulting array 'order_details'\n",
    "        }\n",
    "    },\n",
    "    {\n",
    "        \"$unwind\": \"$order_details\"  # Flatten the order_details array to deal with individual items\n",
    "    },\n",
    "    {\n",
    "        \"$lookup\": {\n",
    "            \"from\": \"products\",  # Join with the products collection\n",
    "            \"localField\": \"order_details.product_id\",  # Match product_id from order_items\n",
    "            \"foreignField\": \"product_id\",  # Match with product_id from products\n",
    "            \"as\": \"product_details\"  # Name the resulting array 'product_details'\n",
    "        }\n",
    "    },\n",
    "    {\n",
    "        \"$unwind\": \"$product_details\"  # Flatten the product_details array\n",
    "    },\n",
    "    {\n",
    "        \"$sort\": {\n",
    "            \"product_details.price\": -1  # Sort the products in descending order by price\n",
    "        }\n",
    "    },\n",
    "    {\n",
    "        \"$group\": {\n",
    "            \"_id\": \"$order_id\",  # Group by order_id\n",
    "            \"top_products\": {  # Store the top products array\n",
    "                \"$push\": {\n",
    "                    \"product_name\": \"$product_details.product_name\",\n",
    "                    \"price\": \"$product_details.price\"\n",
    "                }\n",
    "            }\n",
    "        }\n",
    "    },\n",
    "    {\n",
    "        \"$project\": {\n",
    "            \"top_products\": {  # Only return the top 3 products\n",
    "                \"$slice\": [\"$top_products\", 3]\n",
    "            }\n",
    "        }\n",
    "    },\n",
    "    {'$sort': {'_id':1}}\n",
    "]\n",
    "\n",
    "# Execute the aggregation pipeline\n",
    "result = orders.aggregate(pipeline)\n",
    "\n",
    "# Print the results\n",
    "for doc in result:\n",
    "    print(doc)\n"
   ]
  },
  {
   "cell_type": "code",
   "execution_count": null,
   "metadata": {},
   "outputs": [],
   "source": []
  }
 ],
 "metadata": {
  "kernelspec": {
   "display_name": "base",
   "language": "python",
   "name": "python3"
  },
  "language_info": {
   "codemirror_mode": {
    "name": "ipython",
    "version": 3
   },
   "file_extension": ".py",
   "mimetype": "text/x-python",
   "name": "python",
   "nbconvert_exporter": "python",
   "pygments_lexer": "ipython3",
   "version": "3.12.4"
  }
 },
 "nbformat": 4,
 "nbformat_minor": 2
}
