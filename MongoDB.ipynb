{
 "cells": [
  {
   "cell_type": "code",
   "execution_count": 1,
   "metadata": {},
   "outputs": [],
   "source": [
    "from pymongo import MongoClient\n",
    "from faker import Faker\n",
    "import pprint\n",
    "import random\n",
    "import json\n"
   ]
  },
  {
   "cell_type": "markdown",
   "metadata": {},
   "source": [
    "Code to generate random sample of data and store in JSON file"
   ]
  },
  {
   "cell_type": "code",
   "execution_count": null,
   "metadata": {},
   "outputs": [],
   "source": [
    "fake = Faker() #initialize Faker object\n",
    "customers = []\n",
    "pp = pprint.PrettyPrinter(indent=4)\n",
    "for i in range(1,25):\n",
    "    cus = {\n",
    "        \"customer_id\": i,\n",
    "        \"name\": fake.first_name(),\n",
    "        \"email\": fake.email(),\n",
    "        \"address\": {\n",
    "            \"street\": fake.street_address(),\n",
    "            \"city\": fake.city(),\n",
    "            \"state\": fake.state()\n",
    "        }\n",
    "\n",
    "    }\n",
    "    customers.append(cus)\n",
    "\n",
    "with open('customers.json', 'w') as file:\n",
    "    json.dump(customers,file, indent=4)"
   ]
  },
  {
   "cell_type": "code",
   "execution_count": null,
   "metadata": {},
   "outputs": [],
   "source": [
    "# List of product data as tuples (product_name, category, price)\n",
    "product_data = [\n",
    "    ('Laptop', 'Electronics', 1200.00),\n",
    "    ('Headphones', 'Electronics', 200.00),\n",
    "    ('Smartphone', 'Electronics', 800.00),\n",
    "    ('Tablet', 'Electronics', 600.00),\n",
    "    ('Monitor', 'Electronics', 300.00),\n",
    "    ('Keyboard', 'Accessories', 50.00),\n",
    "    ('Mouse', 'Accessories', 30.00),\n",
    "    ('Desk Chair', 'Furniture', 150.00),\n",
    "    ('Desk', 'Furniture', 250.00),\n",
    "    ('Printer', 'Electronics', 400.00),\n",
    "    ('Earbuds', 'Electronics', 100.00),\n",
    "    ('Smartwatch', 'Electronics', 250.00),\n",
    "    ('Bicycle', 'Outdoors', 500.00),\n",
    "    ('Gaming Console', 'Electronics', 400.00),\n",
    "    ('Coffee Maker', 'Appliances', 100.00),\n",
    "    ('Lamp', 'Furniture', 80.00),\n",
    "    ('TV', 'Electronics', 1500.00),\n",
    "    ('Refrigerator', 'Appliances', 1000.00),\n",
    "    ('Blender', 'Appliances', 70.00),\n",
    "    ('Microwave', 'Appliances', 150.00)\n",
    "]\n",
    "\n",
    "# Create a list of dictionaries with product data\n",
    "products = []\n",
    "for i, (product_name, category, price) in enumerate(product_data, start=101):\n",
    "    prod = {\n",
    "        \"product_id\": i,\n",
    "        \"product_name\": product_name,\n",
    "        \"category\": category,\n",
    "        \"price\": price\n",
    "    }\n",
    "    products.append(prod)\n",
    "\n",
    "# Save the products list to a JSON file\n",
    "with open('products.json', 'w') as file:\n",
    "    json.dump(products, file, indent=4)"
   ]
  },
  {
   "cell_type": "code",
   "execution_count": null,
   "metadata": {},
   "outputs": [],
   "source": [
    "# status categories\n",
    "status = [\"Delivered\", \"Pending\", \"Shipped\", \"In Transit\"]\n",
    "fake = Faker()\n",
    "orders = []\n",
    "pp = pprint.PrettyPrinter(indent=4)\n",
    "for i in range(401,430):\n",
    "    cus = {\n",
    "        \"order_id\": i,\n",
    "        \"customer_id\": random.randint(1,25),\n",
    "        \"order_date\": faker.date_this_year().strftime('%y-%m-%d'),\n",
    "        \"status\": random.choice(status)\n",
    "\n",
    "    }\n",
    "    orders.append(cus)\n",
    "\n",
    "with open('orders.json', 'w') as file:\n",
    "    json.dump(orders,file, indent=4)"
   ]
  },
  {
   "cell_type": "code",
   "execution_count": null,
   "metadata": {},
   "outputs": [],
   "source": [
    "fake = Faker()\n",
    "orders_items = []\n",
    "pp = pprint.PrettyPrinter(indent=4)\n",
    "for i in range(301,340):\n",
    "    cus = {\n",
    "        \"order_item_id\": i,\n",
    "        \"order_id\": random.randint(401,430),\n",
    "        \"product_id\": random.randint(101, 121),\n",
    "        \"quantity\": random.randint(1,10),\n",
    "        \"price\": round(random.uniform(30, 3001),2)\n",
    "\n",
    "    }\n",
    "    orders_items.append(cus)\n",
    "\n",
    "with open('orders_items.json', 'w') as file:\n",
    "    json.dump(orders_items,file, indent=4)"
   ]
  },
  {
   "cell_type": "markdown",
   "metadata": {},
   "source": [
    "### Database Setup and Data Insertion"
   ]
  },
  {
   "cell_type": "code",
   "execution_count": 19,
   "metadata": {},
   "outputs": [],
   "source": [
    "client = MongoClient('mongodb://localhost:27017/')\n",
    "db = client['E-Commerce']\n",
    "customers = db['customers']\n",
    "products = db['products']\n",
    "orders = db['orders']\n",
    "orders_items = db['order_items']"
   ]
  },
  {
   "cell_type": "code",
   "execution_count": null,
   "metadata": {},
   "outputs": [],
   "source": [
    "customers.insert_many(cus)\n",
    "products.insert_many(prod)\n",
    "orders.insert_many(orders)\n",
    "orders_items.insert_many(orders_items)"
   ]
  },
  {
   "cell_type": "markdown",
   "metadata": {},
   "source": [
    "### Analytical Queries"
   ]
  },
  {
   "cell_type": "code",
   "execution_count": 20,
   "metadata": {},
   "outputs": [
    {
     "name": "stdout",
     "output_type": "stream",
     "text": [
      "{'_id': 'Electronics', 'total_revenue': 210480.24}\n",
      "{'_id': 'Accessories', 'total_revenue': 68956.55}\n",
      "{'_id': 'Furniture', 'total_revenue': 35245.729999999996}\n",
      "{'_id': 'Outdoors', 'total_revenue': 27474.0}\n",
      "{'_id': 'Appliances', 'total_revenue': 12580.55}\n"
     ]
    }
   ],
   "source": [
    "\"\"\"\n",
    "Which product categories generate the highest revenue?\n",
    "    Use $group to calculate revenue by category.\n",
    "    Sort the results in descending order.\n",
    "\"\"\"\n",
    "pipeline1 = [\n",
    "    {\n",
    "        \"$lookup\": {\n",
    "            'from': \"order_items\",\n",
    "            'localField': 'order_id',\n",
    "            'foreignField': 'order_id',\n",
    "            'as': 'order_details'\n",
    "            }\n",
    "        },\n",
    "        {\n",
    "            '$unwind': '$order_details'\n",
    "        },\n",
    "        {\n",
    "            '$lookup': {\n",
    "                'from': 'products',\n",
    "                'localField': 'order_details.product_id',\n",
    "                'foreignField': 'product_id',\n",
    "                'as': 'product_details'\n",
    "            },\n",
    "        },\n",
    "        {\n",
    "            '$unwind': '$product_details'\n",
    "        },\n",
    "        {\n",
    "            '$group': {\n",
    "                '_id': '$product_details.category',\n",
    "                'total_revenue': {\n",
    "                    '$sum': {\n",
    "                        '$multiply': ['$order_details.quantity', '$order_details.price']\n",
    "                    }\n",
    "                }\n",
    "            }\n",
    "        },\n",
    "        {\n",
    "            '$sort': {'total_revenue': -1}\n",
    "        }   \n",
    "]\n",
    "result = orders.aggregate(pipeline1)\n",
    "for doc in result:\n",
    "    print(doc)\n"
   ]
  },
  {
   "cell_type": "code",
   "execution_count": 7,
   "metadata": {},
   "outputs": [
    {
     "name": "stdout",
     "output_type": "stream",
     "text": [
      "{'_id': 'Missouri', 'total_customer': 2}\n",
      "{'_id': 'Ohio', 'total_customer': 2}\n",
      "{'_id': 'Idaho', 'total_customer': 2}\n"
     ]
    }
   ],
   "source": [
    "\"\"\"\n",
    "Which states have the highest number of customers?\n",
    "    Use $group to count customers by state.\n",
    "    Sort the results in descending order.\n",
    "\"\"\"\n",
    "pipeline2 = [\n",
    "    {\n",
    "        '$group': {\n",
    "            '_id': '$address.state',\n",
    "            'total_customer': {'$sum': 1}\n",
    "        }\n",
    "    },\n",
    "    {\n",
    "        '$sort': {'total_customer': -1}\n",
    "    },\n",
    "    {'$limit': 3\n",
    "     }\n",
    "]\n",
    "\n",
    "result = customers.aggregate(pipeline2)\n",
    "for doc in result:\n",
    "    print(doc)"
   ]
  },
  {
   "cell_type": "code",
   "execution_count": 64,
   "metadata": {},
   "outputs": [
    {
     "name": "stdout",
     "output_type": "stream",
     "text": [
      "{'_id': 408, 'top_products': [{'product_name': 'Tablet', 'price': 600}, {'product_name': 'Printer', 'price': 400}]}\n",
      "{'_id': 429, 'top_products': [{'product_name': 'Coffee Maker', 'price': 100}]}\n",
      "{'_id': 402, 'top_products': [{'product_name': 'Headphones', 'price': 200}, {'product_name': 'Earbuds', 'price': 100}]}\n",
      "{'_id': 404, 'top_products': [{'product_name': 'Refrigerator', 'price': 1000}, {'product_name': 'Microwave', 'price': 150}]}\n",
      "{'_id': 427, 'top_products': [{'product_name': 'Smartphone', 'price': 800}, {'product_name': 'Gaming Console', 'price': 400}]}\n",
      "{'_id': 428, 'top_products': [{'product_name': 'Monitor', 'price': 300}]}\n",
      "{'_id': 410, 'top_products': [{'product_name': 'Smartphone', 'price': 800}]}\n",
      "{'_id': 420, 'top_products': [{'product_name': 'Smartphone', 'price': 800}]}\n",
      "{'_id': 423, 'top_products': [{'product_name': 'Smartphone', 'price': 800}]}\n",
      "{'_id': 401, 'top_products': [{'product_name': 'Smartwatch', 'price': 250}, {'product_name': 'Keyboard', 'price': 50}]}\n",
      "{'_id': 407, 'top_products': [{'product_name': 'Blender', 'price': 70}]}\n",
      "{'_id': 422, 'top_products': [{'product_name': 'Refrigerator', 'price': 1000}]}\n",
      "{'_id': 425, 'top_products': [{'product_name': 'Bicycle', 'price': 500}]}\n",
      "{'_id': 415, 'top_products': [{'product_name': 'Smartphone', 'price': 800}, {'product_name': 'Monitor', 'price': 300}, {'product_name': 'Lamp', 'price': 80}]}\n",
      "{'_id': 412, 'top_products': [{'product_name': 'Smartphone', 'price': 800}]}\n",
      "{'_id': 419, 'top_products': [{'product_name': 'Smartwatch', 'price': 250}, {'product_name': 'Keyboard', 'price': 50}]}\n",
      "{'_id': 405, 'top_products': [{'product_name': 'TV', 'price': 1500}]}\n",
      "{'_id': 414, 'top_products': [{'product_name': 'Refrigerator', 'price': 1000}, {'product_name': 'Earbuds', 'price': 100}, {'product_name': 'Lamp', 'price': 80}]}\n",
      "{'_id': 403, 'top_products': [{'product_name': 'TV', 'price': 1500}]}\n",
      "{'_id': 409, 'top_products': [{'product_name': 'Gaming Console', 'price': 400}]}\n",
      "{'_id': 406, 'top_products': [{'product_name': 'Headphones', 'price': 200}]}\n",
      "{'_id': 413, 'top_products': [{'product_name': 'Desk Chair', 'price': 150}]}\n",
      "{'_id': 430, 'top_products': [{'product_name': 'Coffee Maker', 'price': 100}]}\n",
      "{'_id': 418, 'top_products': [{'product_name': 'Keyboard', 'price': 50}]}\n",
      "{'_id': 417, 'top_products': [{'product_name': 'Earbuds', 'price': 100}, {'product_name': 'Mouse', 'price': 30}]}\n",
      "{'_id': 426, 'top_products': [{'product_name': 'Smartphone', 'price': 800}, {'product_name': 'Desk', 'price': 250}]}\n"
     ]
    }
   ],
   "source": [
    "'''\n",
    "What are the top 3 most expensive products sold in each order?\n",
    "Use $lookup and $sort to find the top products in each order.\n",
    "'''\n",
    "pipeline3 = [\n",
    "    {\n",
    "        '$lookup': {\n",
    "        'from': 'products',\n",
    "        'localField': 'product_id',\n",
    "        'foreignField': 'product_id',\n",
    "        'as': 'product_order_items'\n",
    "        }\n",
    "    },\n",
    "    {\n",
    "        \"$unwind\": \"$product_order_items\"\n",
    "    },\n",
    "    {'$sort': {'product_order_items.price': -1}},\n",
    "    {\n",
    "        '$group': {\n",
    "            '_id': '$order_id',\n",
    "            'top_products': {\n",
    "                '$push': {\n",
    "                    'product_name': '$product_order_items.product_name',\n",
    "                    'price': '$product_order_items.price'\n",
    "                }\n",
    "            }\n",
    "            }\n",
    "        },\n",
    "    {\n",
    "        '$project': {\n",
    "            'top_products': {'$slice': ['$top_products',3]}\n",
    "        }\n",
    "    }\n",
    "]\n",
    "\n",
    "result = orders_items.aggregate(pipeline3)\n",
    "for re in result:\n",
    "    print(re)"
   ]
  },
  {
   "cell_type": "markdown",
   "metadata": {},
   "source": [
    "### Schema Design and Optimization"
   ]
  },
  {
   "cell_type": "code",
   "execution_count": 65,
   "metadata": {},
   "outputs": [
    {
     "data": {
      "text/plain": [
       "'order_id_1_product_id_1'"
      ]
     },
     "execution_count": 65,
     "metadata": {},
     "output_type": "execute_result"
    }
   ],
   "source": [
    "# create an index of customer_id in Customers collection\n",
    "customers.create_index(['customer_id'])\n",
    "# create an indexes of customer_id and order_id in Orders collection\n",
    "orders.create_index([\n",
    "    ('order_id',1),\n",
    "    ('customer_id', 1)\n",
    "])\n",
    "# create an indexes of order_id and product_id in Orders_items collection\n",
    "orders_items.create_index([\n",
    "    ('order_id', 1),\n",
    "    ('product_id', 1)\n",
    "])"
   ]
  },
  {
   "cell_type": "code",
   "execution_count": null,
   "metadata": {},
   "outputs": [],
   "source": []
  }
 ],
 "metadata": {
  "kernelspec": {
   "display_name": "base",
   "language": "python",
   "name": "python3"
  },
  "language_info": {
   "codemirror_mode": {
    "name": "ipython",
    "version": 3
   },
   "file_extension": ".py",
   "mimetype": "text/x-python",
   "name": "python",
   "nbconvert_exporter": "python",
   "pygments_lexer": "ipython3",
   "version": "3.12.4"
  }
 },
 "nbformat": 4,
 "nbformat_minor": 2
}
